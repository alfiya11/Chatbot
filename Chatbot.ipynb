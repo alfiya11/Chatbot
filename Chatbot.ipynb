{
  "cells": [
    {
      "cell_type": "markdown",
      "metadata": {
        "id": "dJ4pzhCjcVip"
      },
      "source": [
        "Importing Libraries"
      ]
    },
    {
      "cell_type": "code",
      "execution_count": null,
      "metadata": {
        "id": "Ay73i0pOkPMg"
      },
      "outputs": [],
      "source": [
        "import numpy as np\n",
        "import nltk   # NLP tokenization, parsing, classification, stemming, tagging and semantic reasoning\n",
        "import string # Ascii string constants\n",
        "import random # generate pseudo-random values"
      ]
    },
    {
      "cell_type": "markdown",
      "metadata": {
        "id": "SKpoCsHGjmAs"
      },
      "source": [
        "Importing and reading the corpus"
      ]
    },
    {
      "cell_type": "code",
      "execution_count": null,
      "metadata": {
        "id": "yw-Zf4p5cRpq"
      },
      "outputs": [],
      "source": [
        "f = open('chatbot.txt', 'r', errors = 'ignore')\n",
        "raw_doc = f.read()\n",
        "raw_doc = raw_doc.lower() #lowecase\n",
        "nltk.download('punkt') #punkt tokenizer\n",
        "nltk.download('wordnet') #wordnet dictionary\n",
        "sent_tokens = nltk.sent_tokenize(raw_doc)  #convert doc to list of sent\n",
        "word_tokens = nltk.word_tokenize(raw_doc) #convert doc to list of words"
      ]
    },
    {
      "cell_type": "markdown",
      "metadata": {
        "id": "_W2Pvdlsj6Ur"
      },
      "source": [
        "Example of sentence tokens"
      ]
    },
    {
      "cell_type": "code",
      "execution_count": null,
      "metadata": {
        "colab": {
          "base_uri": "https://localhost:8080/"
        },
        "id": "2qeDETdacTVF",
        "outputId": "0aa242d8-9789-4f99-a526-ac4e4909bca4"
      },
      "outputs": [
        {
          "output_type": "execute_result",
          "data": {
            "text/plain": [
              "['data science is an interdisciplinary academic field [1] that uses statistics, scientific computing, scientific methods, processes, algorithms and systems to extract or extrapolate knowledge and insights from noisy, structured, and unstructured data.',\n",
              " '[2]\\n\\ndata science also integrates domain knowledge from the underlying application domain (e.g., natural sciences, information technology, and medicine).']"
            ]
          },
          "metadata": {},
          "execution_count": 21
        }
      ],
      "source": [
        "sent_tokens[:2]"
      ]
    },
    {
      "cell_type": "code",
      "execution_count": null,
      "metadata": {
        "colab": {
          "base_uri": "https://localhost:8080/"
        },
        "id": "p2itTNEAjp8E",
        "outputId": "a7216e04-8149-4276-bd35-9fa4729071af"
      },
      "outputs": [
        {
          "output_type": "execute_result",
          "data": {
            "text/plain": [
              "['data', 'science']"
            ]
          },
          "metadata": {},
          "execution_count": 22
        }
      ],
      "source": [
        "word_tokens[:2]"
      ]
    },
    {
      "cell_type": "markdown",
      "source": [
        "Text Preprocessing"
      ],
      "metadata": {
        "id": "erED36GHNfOO"
      }
    },
    {
      "cell_type": "code",
      "execution_count": null,
      "metadata": {
        "id": "GHwr66Wgj3wA"
      },
      "outputs": [],
      "source": [
        "lemmer = nltk.stem.WordNetLemmatizer()\n",
        "#wordnet is sematically oriented dict of english included in nltk\n",
        "def LemTokens(tokens):\n",
        "  return [lemmer.lemmatize(token) for token in tokens]\n",
        "remove_punct_dict = dict((ord(punct), None) for punct in string.punctuation)\n",
        "def LemNormalize(text):\n",
        "  return LemTokens(nltk.word_tokenize(text.lower().translate(remove_punct_dict)))"
      ]
    },
    {
      "cell_type": "markdown",
      "source": [
        "Defining the greeting function"
      ],
      "metadata": {
        "id": "IGaf4UqySCSq"
      }
    },
    {
      "cell_type": "code",
      "source": [
        "GREET_INPUTS = ('hello', 'hii','greetings','sup','hey',)\n",
        "GREET_RESPONSES = ['hii','hey','*nods*','hi there','hello','I am glad!']\n",
        "def greet(sentence):\n",
        "  for word in sentence.split():\n",
        "    if word.lower() in GREET_INPUTS:\n",
        "      return random.choice(GREET_RESPONSES)"
      ],
      "metadata": {
        "id": "1FmsOWGANeJK"
      },
      "execution_count": null,
      "outputs": []
    },
    {
      "cell_type": "markdown",
      "source": [
        "Response generation"
      ],
      "metadata": {
        "id": "oydMsyEVSsxk"
      }
    },
    {
      "cell_type": "code",
      "source": [
        "from sklearn.feature_extraction.text import TfidfVectorizer\n",
        "from sklearn.metrics.pairwise import cosine_similarity"
      ],
      "metadata": {
        "id": "_ET_iYWgSpgf"
      },
      "execution_count": null,
      "outputs": []
    },
    {
      "cell_type": "code",
      "source": [
        "def response(user_response):\n",
        "  robo1_response = ''\n",
        "  TfidfVec = TfidfVectorizer(tokenizer =  LemNormalize, stop_words = 'english')\n",
        "  tfidf = TfidfVec.fit_transform(sent_tokens)\n",
        "  vals = cosine_similarity(tfidf[-1], tfidf)\n",
        "  idx = vals.argsort()[0][-2]\n",
        "  flat = vals.flatten()\n",
        "  flat.sort()\n",
        "  req_tfidf = flat[-2]\n",
        "  if(req_tfidf == 0):\n",
        "    robo1_response = robo1_response+\"I am sorry! I don't understand you\"\n",
        "    return robo1_response\n",
        "  else:\n",
        "    robo1_reponse = robo1_response+sent_tokens[idx]\n",
        "    return robo1_response\n"
      ],
      "metadata": {
        "id": "8azg45G3S8DZ"
      },
      "execution_count": null,
      "outputs": []
    },
    {
      "cell_type": "markdown",
      "source": [
        "Defining conversation start/end protocol"
      ],
      "metadata": {
        "id": "KAJ6fvCpwQvK"
      }
    },
    {
      "cell_type": "code",
      "source": [
        "flag = True\n",
        "print('BOT: My name is Stark. Lets have a conversation! Also, if you want to exit any time, just type Bye')\n",
        "while(flag == True):\n",
        "  user_response = input()\n",
        "  user_response = user_response.lower()\n",
        "  if(user_response != 'bye'):\n",
        "    if(user_response == 'thanks' or user_response == 'thank you'):\n",
        "      flag = False\n",
        "      print(\"BOT: You are Welcome!!\")\n",
        "    else:\n",
        "      if(greet(user_response) != None):\n",
        "        print(\"BOT: \"+greet(user_response))\n",
        "      else:\n",
        "        sent_tokens.append(user_response)\n",
        "        word_tokens = word_tokens+nltk.word_tokenize(user_response)\n",
        "        final_words = list(set(word_tokens))\n",
        "        print(\"BOT: \",end=\"\")\n",
        "        print(response(user_response))\n",
        "        sent_tokens.remove(user_response)\n",
        "  else:\n",
        "    flag = False\n",
        "    print(\"BOT: Goodbye! Take Care <3\")\n"
      ],
      "metadata": {
        "colab": {
          "base_uri": "https://localhost:8080/"
        },
        "id": "Hni5Jo8fvlDj",
        "outputId": "7fbffbe6-1fcd-4e59-c585-e88a7e1381c7"
      },
      "execution_count": null,
      "outputs": [
        {
          "metadata": {
            "tags": null
          },
          "name": "stdout",
          "output_type": "stream",
          "text": [
            "BOT: My name is Stark. Lets have a conversation! Also, if you want to exit any time, just type Bye\n"
          ]
        }
      ]
    },
    {
      "cell_type": "code",
      "source": [],
      "metadata": {
        "id": "wx6cwtrewWm3"
      },
      "execution_count": null,
      "outputs": []
    }
  ],
  "metadata": {
    "colab": {
      "provenance": []
    },
    "kernelspec": {
      "display_name": "Python 3",
      "name": "python3"
    },
    "language_info": {
      "name": "python"
    }
  },
  "nbformat": 4,
  "nbformat_minor": 0
}